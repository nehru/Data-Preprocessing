{
 "cells": [
  {
   "cell_type": "markdown",
   "metadata": {},
   "source": [
    "# Data preprocessing for model creation"
   ]
  },
  {
   "cell_type": "markdown",
   "metadata": {},
   "source": [
    "## Importing the libraries"
   ]
  },
  {
   "cell_type": "code",
   "execution_count": 113,
   "metadata": {},
   "outputs": [],
   "source": [
    "import numpy as np\n",
    "import matplotlib.pyplot as plt\n",
    "import pandas as pd"
   ]
  },
  {
   "cell_type": "markdown",
   "metadata": {},
   "source": [
    "## Import the dataset"
   ]
  },
  {
   "cell_type": "code",
   "execution_count": 114,
   "metadata": {},
   "outputs": [
    {
     "name": "stdout",
     "output_type": "stream",
     "text": [
      "   Travel Destination   Age  Budget  Booked Trip\n",
      "0               Paris    28    1500          Yes\n",
      "1           Barcelona    33     900          Yes\n",
      "2              Berlin    45     NaN           No\n",
      "3           Barcelona    29    1000          Yes\n",
      "4               Paris    37    1800           No\n",
      "5              Berlin    42    1300          Yes\n",
      "6               Paris   NaN     800           No\n",
      "7           Barcelona    31    1100          Yes\n",
      "8              Berlin    55     NaN           No\n",
      "9           Barcelona    28     950          Yes\n",
      "10             Berlin    38    1100          Yes\n",
      "11              Paris    26    1400           No\n",
      "12          Barcelona    35    1200          Yes\n",
      "13             Berlin    48    1500           No\n",
      "14              Paris   NaN    1700          Yes\n",
      "15          Barcelona    40    1300           No\n",
      "16             Berlin    29    1000          Yes\n",
      "17              Paris    44    1600           No\n",
      "18          Barcelona    27     900          Yes\n",
      "19             Berlin    36    1400           No\n"
     ]
    }
   ],
   "source": [
    "dataset = pd.read_csv('data.csv')\n",
    "X = dataset.iloc[:, :-1].values\n",
    "y = dataset.iloc[:, -1].values\n",
    "\n",
    "print(dataset)"
   ]
  },
  {
   "cell_type": "code",
   "execution_count": 115,
   "metadata": {},
   "outputs": [
    {
     "name": "stdout",
     "output_type": "stream",
     "text": [
      "[['Paris' ' 28' ' 1500']\n",
      " ['Barcelona' ' 33' ' 900']\n",
      " ['Berlin' ' 45' ' NaN']\n",
      " ['Barcelona' ' 29' ' 1000']\n",
      " ['Paris' ' 37' ' 1800']\n",
      " ['Berlin' ' 42' ' 1300']\n",
      " ['Paris' ' NaN' ' 800']\n",
      " ['Barcelona' ' 31' ' 1100']\n",
      " ['Berlin' ' 55' ' NaN']\n",
      " ['Barcelona' ' 28' ' 950']\n",
      " ['Berlin' ' 38' ' 1100']\n",
      " ['Paris' ' 26' ' 1400']\n",
      " ['Barcelona' ' 35' ' 1200']\n",
      " ['Berlin' ' 48' ' 1500']\n",
      " ['Paris' ' NaN' ' 1700']\n",
      " ['Barcelona' ' 40' ' 1300']\n",
      " ['Berlin' ' 29' ' 1000']\n",
      " ['Paris' ' 44' ' 1600']\n",
      " ['Barcelona' ' 27' ' 900']\n",
      " ['Berlin' ' 36' ' 1400']]\n"
     ]
    }
   ],
   "source": [
    "print(X)"
   ]
  },
  {
   "cell_type": "code",
   "execution_count": 116,
   "metadata": {},
   "outputs": [
    {
     "name": "stdout",
     "output_type": "stream",
     "text": [
      "[' Yes' ' Yes' ' No' ' Yes' ' No' ' Yes' ' No' ' Yes' ' No' ' Yes' ' Yes'\n",
      " ' No' ' Yes' ' No' ' Yes' ' No' ' Yes' ' No' ' Yes' ' No']\n"
     ]
    }
   ],
   "source": [
    "print(y)"
   ]
  },
  {
   "cell_type": "code",
   "execution_count": 117,
   "metadata": {},
   "outputs": [
    {
     "name": "stdout",
     "output_type": "stream",
     "text": [
      "[['Paris' ' 28' ' 1500']\n",
      " ['Barcelona' ' 33' ' 900']\n",
      " ['Berlin' ' 45' ' NaN']\n",
      " ['Barcelona' ' 29' ' 1000']\n",
      " ['Paris' ' 37' ' 1800']\n",
      " ['Berlin' ' 42' ' 1300']\n",
      " ['Paris' ' NaN' ' 800']\n",
      " ['Barcelona' ' 31' ' 1100']\n",
      " ['Berlin' ' 55' ' NaN']\n",
      " ['Barcelona' ' 28' ' 950']\n",
      " ['Berlin' ' 38' ' 1100']\n",
      " ['Paris' ' 26' ' 1400']\n",
      " ['Barcelona' ' 35' ' 1200']\n",
      " ['Berlin' ' 48' ' 1500']\n",
      " ['Paris' ' NaN' ' 1700']\n",
      " ['Barcelona' ' 40' ' 1300']\n",
      " ['Berlin' ' 29' ' 1000']\n",
      " ['Paris' ' 44' ' 1600']\n",
      " ['Barcelona' ' 27' ' 900']\n",
      " ['Berlin' ' 36' ' 1400']]\n"
     ]
    }
   ],
   "source": [
    "print(X)"
   ]
  },
  {
   "cell_type": "markdown",
   "metadata": {},
   "source": [
    "### Missing data creation\n",
    "In Age and Salary there are two NaN values"
   ]
  },
  {
   "cell_type": "code",
   "execution_count": 118,
   "metadata": {},
   "outputs": [],
   "source": [
    "from sklearn.impute import SimpleImputer\n",
    "imputer = SimpleImputer(missing_values=np.nan, strategy='mean')\n",
    "imputer.fit(X[:, 1:3])\n",
    "X[:, 1:3] = imputer.transform(X[:, 1:3])"
   ]
  },
  {
   "cell_type": "code",
   "execution_count": 119,
   "metadata": {},
   "outputs": [
    {
     "name": "stdout",
     "output_type": "stream",
     "text": [
      "[['Paris' 28.0 1500.0]\n",
      " ['Barcelona' 33.0 900.0]\n",
      " ['Berlin' 45.0 1247.2222222222222]\n",
      " ['Barcelona' 29.0 1000.0]\n",
      " ['Paris' 37.0 1800.0]\n",
      " ['Berlin' 42.0 1300.0]\n",
      " ['Paris' 36.166666666666664 800.0]\n",
      " ['Barcelona' 31.0 1100.0]\n",
      " ['Berlin' 55.0 1247.2222222222222]\n",
      " ['Barcelona' 28.0 950.0]\n",
      " ['Berlin' 38.0 1100.0]\n",
      " ['Paris' 26.0 1400.0]\n",
      " ['Barcelona' 35.0 1200.0]\n",
      " ['Berlin' 48.0 1500.0]\n",
      " ['Paris' 36.166666666666664 1700.0]\n",
      " ['Barcelona' 40.0 1300.0]\n",
      " ['Berlin' 29.0 1000.0]\n",
      " ['Paris' 44.0 1600.0]\n",
      " ['Barcelona' 27.0 900.0]\n",
      " ['Berlin' 36.0 1400.0]]\n"
     ]
    }
   ],
   "source": [
    "print(X)"
   ]
  },
  {
   "cell_type": "markdown",
   "metadata": {},
   "source": [
    "## Encoding categorial data"
   ]
  },
  {
   "cell_type": "code",
   "execution_count": 120,
   "metadata": {},
   "outputs": [],
   "source": [
    "from sklearn.preprocessing import OneHotEncoder\n",
    "from sklearn.compose import ColumnTransformer\n",
    "cdata = ColumnTransformer(transformers=[('encoder', OneHotEncoder(), [0])], remainder= 'passthrough')\n",
    "X = np.array(cdata.fit_transform(X))"
   ]
  },
  {
   "cell_type": "code",
   "execution_count": 121,
   "metadata": {},
   "outputs": [
    {
     "name": "stdout",
     "output_type": "stream",
     "text": [
      "[[0.0 0.0 1.0 28.0 1500.0]\n",
      " [1.0 0.0 0.0 33.0 900.0]\n",
      " [0.0 1.0 0.0 45.0 1247.2222222222222]\n",
      " [1.0 0.0 0.0 29.0 1000.0]\n",
      " [0.0 0.0 1.0 37.0 1800.0]\n",
      " [0.0 1.0 0.0 42.0 1300.0]\n",
      " [0.0 0.0 1.0 36.166666666666664 800.0]\n",
      " [1.0 0.0 0.0 31.0 1100.0]\n",
      " [0.0 1.0 0.0 55.0 1247.2222222222222]\n",
      " [1.0 0.0 0.0 28.0 950.0]\n",
      " [0.0 1.0 0.0 38.0 1100.0]\n",
      " [0.0 0.0 1.0 26.0 1400.0]\n",
      " [1.0 0.0 0.0 35.0 1200.0]\n",
      " [0.0 1.0 0.0 48.0 1500.0]\n",
      " [0.0 0.0 1.0 36.166666666666664 1700.0]\n",
      " [1.0 0.0 0.0 40.0 1300.0]\n",
      " [0.0 1.0 0.0 29.0 1000.0]\n",
      " [0.0 0.0 1.0 44.0 1600.0]\n",
      " [1.0 0.0 0.0 27.0 900.0]\n",
      " [0.0 1.0 0.0 36.0 1400.0]]\n"
     ]
    }
   ],
   "source": [
    "print(X)"
   ]
  },
  {
   "cell_type": "code",
   "execution_count": 122,
   "metadata": {},
   "outputs": [
    {
     "name": "stdout",
     "output_type": "stream",
     "text": [
      "[' Yes' ' Yes' ' No' ' Yes' ' No' ' Yes' ' No' ' Yes' ' No' ' Yes' ' Yes'\n",
      " ' No' ' Yes' ' No' ' Yes' ' No' ' Yes' ' No' ' Yes' ' No']\n"
     ]
    }
   ],
   "source": [
    "print(y)"
   ]
  },
  {
   "cell_type": "code",
   "execution_count": 123,
   "metadata": {},
   "outputs": [],
   "source": [
    "from sklearn.preprocessing import LabelEncoder\n",
    "le = LabelEncoder()\n",
    "y = le.fit_transform(y)"
   ]
  },
  {
   "cell_type": "code",
   "execution_count": 124,
   "metadata": {},
   "outputs": [
    {
     "name": "stdout",
     "output_type": "stream",
     "text": [
      "[1 1 0 1 0 1 0 1 0 1 1 0 1 0 1 0 1 0 1 0]\n"
     ]
    }
   ],
   "source": [
    "print(y)"
   ]
  },
  {
   "cell_type": "markdown",
   "metadata": {},
   "source": [
    "## Split data into training and test data"
   ]
  },
  {
   "cell_type": "code",
   "execution_count": 125,
   "metadata": {},
   "outputs": [],
   "source": [
    "from sklearn.model_selection import train_test_split\n",
    "X_train, X_test, y_train, y_test = train_test_split(X, y, test_size = 0.2, random_state = 1)"
   ]
  },
  {
   "cell_type": "code",
   "execution_count": 126,
   "metadata": {},
   "outputs": [
    {
     "name": "stdout",
     "output_type": "stream",
     "text": [
      "[[0.0 1.0 0.0 45.0 1247.2222222222222]\n",
      " [0.0 0.0 1.0 36.166666666666664 1700.0]\n",
      " [0.0 0.0 1.0 37.0 1800.0]\n",
      " [0.0 0.0 1.0 44.0 1600.0]\n",
      " [1.0 0.0 0.0 31.0 1100.0]\n",
      " [1.0 0.0 0.0 33.0 900.0]\n",
      " [0.0 1.0 0.0 48.0 1500.0]\n",
      " [0.0 0.0 1.0 28.0 1500.0]\n",
      " [0.0 1.0 0.0 36.0 1400.0]\n",
      " [1.0 0.0 0.0 27.0 900.0]\n",
      " [1.0 0.0 0.0 28.0 950.0]\n",
      " [1.0 0.0 0.0 40.0 1300.0]\n",
      " [0.0 1.0 0.0 55.0 1247.2222222222222]\n",
      " [1.0 0.0 0.0 35.0 1200.0]\n",
      " [0.0 0.0 1.0 26.0 1400.0]\n",
      " [0.0 1.0 0.0 42.0 1300.0]]\n"
     ]
    }
   ],
   "source": [
    "print(X_train)"
   ]
  },
  {
   "cell_type": "code",
   "execution_count": 127,
   "metadata": {},
   "outputs": [
    {
     "name": "stdout",
     "output_type": "stream",
     "text": [
      "[[45.0 1247.2222222222222]\n",
      " [36.166666666666664 1700.0]\n",
      " [37.0 1800.0]\n",
      " [44.0 1600.0]\n",
      " [31.0 1100.0]\n",
      " [33.0 900.0]\n",
      " [48.0 1500.0]\n",
      " [28.0 1500.0]\n",
      " [36.0 1400.0]\n",
      " [27.0 900.0]\n",
      " [28.0 950.0]\n",
      " [40.0 1300.0]\n",
      " [55.0 1247.2222222222222]\n",
      " [35.0 1200.0]\n",
      " [26.0 1400.0]\n",
      " [42.0 1300.0]]\n"
     ]
    }
   ],
   "source": [
    "print(X_train[:,3:])"
   ]
  },
  {
   "cell_type": "code",
   "execution_count": 128,
   "metadata": {},
   "outputs": [
    {
     "name": "stdout",
     "output_type": "stream",
     "text": [
      "[0 1 0 0 1 1 0 1 0 1 1 0 0 1 0 1]\n"
     ]
    }
   ],
   "source": [
    "print(y_train)"
   ]
  },
  {
   "cell_type": "code",
   "execution_count": 129,
   "metadata": {},
   "outputs": [
    {
     "name": "stdout",
     "output_type": "stream",
     "text": [
      "[[1.0 0.0 0.0 29.0 1000.0]\n",
      " [0.0 1.0 0.0 29.0 1000.0]\n",
      " [0.0 0.0 1.0 36.166666666666664 800.0]\n",
      " [0.0 1.0 0.0 38.0 1100.0]]\n"
     ]
    }
   ],
   "source": [
    "print(X_test)"
   ]
  },
  {
   "cell_type": "code",
   "execution_count": 130,
   "metadata": {},
   "outputs": [
    {
     "name": "stdout",
     "output_type": "stream",
     "text": [
      "[1 1 0 1]\n"
     ]
    }
   ],
   "source": [
    "print(y_test)"
   ]
  },
  {
   "cell_type": "markdown",
   "metadata": {},
   "source": [
    "## Feature scaling age, Budget"
   ]
  },
  {
   "cell_type": "code",
   "execution_count": 131,
   "metadata": {},
   "outputs": [],
   "source": [
    "from sklearn.preprocessing import StandardScaler\n",
    "sc = StandardScaler()\n",
    "X_train[:, 3:] = sc.fit_transform(X_train[:, 3:])\n",
    "X_test[:, 3:] = sc.fit_transform(X_test[:, 3:])"
   ]
  },
  {
   "cell_type": "code",
   "execution_count": 132,
   "metadata": {},
   "outputs": [
    {
     "name": "stdout",
     "output_type": "stream",
     "text": [
      "[[0.0 1.0 0.0 1.0022855253474006 -0.2602244794710717]\n",
      " [0.0 0.0 1.0 -0.09724633169606083 1.471064914560954]\n",
      " [0.0 0.0 1.0 0.006483088779737683 1.8534355782735485]\n",
      " [0.0 0.0 1.0 0.8778102207764427 1.0886942508483595]\n",
      " [1.0 0.0 0.0 -0.7403687386460095 -0.8231590677146136]\n",
      " [1.0 0.0 0.0 -0.49141812950409375 -1.5879003951398027]\n",
      " [0.0 1.0 0.0 1.375711439060274 0.7063235871357648]\n",
      " [0.0 0.0 1.0 -1.113794652358883 0.7063235871357648]\n",
      " [0.0 1.0 0.0 -0.11799221579122017 0.3239529234231702]\n",
      " [1.0 0.0 0.0 -1.238269956929841 -1.5879003951398027]\n",
      " [1.0 0.0 0.0 -1.113794652358883 -1.3967150632835055]\n",
      " [1.0 0.0 0.0 0.3799090024926113 -0.05841774028942437]\n",
      " [0.0 1.0 0.0 2.2470385710569794 -0.2602244794710717]\n",
      " [1.0 0.0 0.0 -0.24246752036217803 -0.44078840400201896]\n",
      " [0.0 0.0 1.0 -1.3627452615007987 0.3239529234231702]\n",
      " [0.0 1.0 0.0 0.628859611634527 -0.05841774028942437]]\n"
     ]
    }
   ],
   "source": [
    "print(X_train)"
   ]
  },
  {
   "cell_type": "code",
   "execution_count": 133,
   "metadata": {},
   "outputs": [
    {
     "name": "stdout",
     "output_type": "stream",
     "text": [
      "[[1.0 0.0 0.0 -0.9873828427975431 0.22941573387056177]\n",
      " [0.0 1.0 0.0 -0.9873828427975431 0.22941573387056177]\n",
      " [0.0 0.0 1.0 0.7634403423692347 -1.6059101370939324]\n",
      " [0.0 1.0 0.0 1.211325343225853 1.1470786693528088]]\n"
     ]
    }
   ],
   "source": [
    "print(X_test)"
   ]
  },
  {
   "cell_type": "code",
   "execution_count": null,
   "metadata": {},
   "outputs": [],
   "source": []
  }
 ],
 "metadata": {
  "kernelspec": {
   "display_name": "Python 3 (ipykernel)",
   "language": "python",
   "name": "python3"
  },
  "language_info": {
   "codemirror_mode": {
    "name": "ipython",
    "version": 3
   },
   "file_extension": ".py",
   "mimetype": "text/x-python",
   "name": "python",
   "nbconvert_exporter": "python",
   "pygments_lexer": "ipython3",
   "version": "3.9.12"
  }
 },
 "nbformat": 4,
 "nbformat_minor": 1
}
